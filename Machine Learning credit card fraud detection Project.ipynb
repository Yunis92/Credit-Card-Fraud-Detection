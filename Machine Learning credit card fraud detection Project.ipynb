{
 "cells": [
  {
   "cell_type": "markdown",
   "id": "divided-inventory",
   "metadata": {},
   "source": [
    "The datasets contains transactions made by credit cards in September 2013 by european cardholders. This dataset presents transactions that occurred in two days, where we have 492 frauds out of 284,807 transactions. The dataset is highly unbalanced, the positive class (frauds) account for 0.172% of all transactions."
   ]
  },
  {
   "cell_type": "markdown",
   "id": "drawn-watershed",
   "metadata": {},
   "source": [
    "## Import Libraries"
   ]
  },
  {
   "cell_type": "code",
   "execution_count": 33,
   "id": "sustainable-house",
   "metadata": {},
   "outputs": [],
   "source": [
    "import numpy as np\n",
    "import pandas as pd\n",
    "import matplotlib.pyplot as plt\n",
    "import seaborn as sns\n",
    "sns.set_style('white')\n",
    "custom_palette=['orange','purple']   \n",
    "sns.set_palette(custom_palette)\n",
    "import tensorflow as tf\n",
    "\n",
    "# Sklearn Libraries\n",
    "from sklearn.linear_model import LogisticRegression\n",
    "from sklearn.tree import DecisionTreeClassifier\n",
    "from sklearn.svm import SVC\n",
    "from sklearn.neighbors import KNeighborsClassifier\n",
    "from sklearn.ensemble import RandomForestClassifier\n",
    "\n",
    "# Utilities libraries\n",
    "from sklearn.model_selection import train_test_split\n",
    "from sklearn.pipeline import make_pipeline\n",
    "from sklearn.metrics import precision_score, recall_score, f1_score, roc_auc_score, accuracy_score, classification_report, confusion_matrix\n",
    "from sklearn.model_selection import KFold, StratifiedKFold, cross_val_score\n",
    "from sklearn.model_selection import GridSearchCV\n",
    "import imblearn\n",
    "from imblearn.under_sampling import RandomUnderSampler\n",
    "from sklearn.preprocessing import StandardScaler\n",
    "\n",
    "# Tensorflow Libraries\n",
    "import tensorflow as tf\n",
    "from keras.models import Sequential\n",
    "from keras.layers.core import Dense, Activation, Dropout\n",
    "\n",
    "# Ignore warnings\n",
    "import warnings\n",
    "warnings.filterwarnings(\"ignore\")"
   ]
  },
  {
   "cell_type": "markdown",
   "id": "flexible-imperial",
   "metadata": {},
   "source": [
    "## Data explortation"
   ]
  },
  {
   "cell_type": "code",
   "execution_count": 34,
   "id": "blessed-absorption",
   "metadata": {},
   "outputs": [
    {
     "data": {
      "text/html": [
       "<div>\n",
       "<style scoped>\n",
       "    .dataframe tbody tr th:only-of-type {\n",
       "        vertical-align: middle;\n",
       "    }\n",
       "\n",
       "    .dataframe tbody tr th {\n",
       "        vertical-align: top;\n",
       "    }\n",
       "\n",
       "    .dataframe thead th {\n",
       "        text-align: right;\n",
       "    }\n",
       "</style>\n",
       "<table border=\"1\" class=\"dataframe\">\n",
       "  <thead>\n",
       "    <tr style=\"text-align: right;\">\n",
       "      <th></th>\n",
       "      <th>Time</th>\n",
       "      <th>V1</th>\n",
       "      <th>V2</th>\n",
       "      <th>V3</th>\n",
       "      <th>V4</th>\n",
       "      <th>V5</th>\n",
       "      <th>V6</th>\n",
       "      <th>V7</th>\n",
       "      <th>V8</th>\n",
       "      <th>V9</th>\n",
       "      <th>...</th>\n",
       "      <th>V21</th>\n",
       "      <th>V22</th>\n",
       "      <th>V23</th>\n",
       "      <th>V24</th>\n",
       "      <th>V25</th>\n",
       "      <th>V26</th>\n",
       "      <th>V27</th>\n",
       "      <th>V28</th>\n",
       "      <th>Amount</th>\n",
       "      <th>Class</th>\n",
       "    </tr>\n",
       "  </thead>\n",
       "  <tbody>\n",
       "    <tr>\n",
       "      <th>0</th>\n",
       "      <td>0.0</td>\n",
       "      <td>-1.359807</td>\n",
       "      <td>-0.072781</td>\n",
       "      <td>2.536347</td>\n",
       "      <td>1.378155</td>\n",
       "      <td>-0.338321</td>\n",
       "      <td>0.462388</td>\n",
       "      <td>0.239599</td>\n",
       "      <td>0.098698</td>\n",
       "      <td>0.363787</td>\n",
       "      <td>...</td>\n",
       "      <td>-0.018307</td>\n",
       "      <td>0.277838</td>\n",
       "      <td>-0.110474</td>\n",
       "      <td>0.066928</td>\n",
       "      <td>0.128539</td>\n",
       "      <td>-0.189115</td>\n",
       "      <td>0.133558</td>\n",
       "      <td>-0.021053</td>\n",
       "      <td>149.62</td>\n",
       "      <td>0</td>\n",
       "    </tr>\n",
       "    <tr>\n",
       "      <th>1</th>\n",
       "      <td>0.0</td>\n",
       "      <td>1.191857</td>\n",
       "      <td>0.266151</td>\n",
       "      <td>0.166480</td>\n",
       "      <td>0.448154</td>\n",
       "      <td>0.060018</td>\n",
       "      <td>-0.082361</td>\n",
       "      <td>-0.078803</td>\n",
       "      <td>0.085102</td>\n",
       "      <td>-0.255425</td>\n",
       "      <td>...</td>\n",
       "      <td>-0.225775</td>\n",
       "      <td>-0.638672</td>\n",
       "      <td>0.101288</td>\n",
       "      <td>-0.339846</td>\n",
       "      <td>0.167170</td>\n",
       "      <td>0.125895</td>\n",
       "      <td>-0.008983</td>\n",
       "      <td>0.014724</td>\n",
       "      <td>2.69</td>\n",
       "      <td>0</td>\n",
       "    </tr>\n",
       "    <tr>\n",
       "      <th>2</th>\n",
       "      <td>1.0</td>\n",
       "      <td>-1.358354</td>\n",
       "      <td>-1.340163</td>\n",
       "      <td>1.773209</td>\n",
       "      <td>0.379780</td>\n",
       "      <td>-0.503198</td>\n",
       "      <td>1.800499</td>\n",
       "      <td>0.791461</td>\n",
       "      <td>0.247676</td>\n",
       "      <td>-1.514654</td>\n",
       "      <td>...</td>\n",
       "      <td>0.247998</td>\n",
       "      <td>0.771679</td>\n",
       "      <td>0.909412</td>\n",
       "      <td>-0.689281</td>\n",
       "      <td>-0.327642</td>\n",
       "      <td>-0.139097</td>\n",
       "      <td>-0.055353</td>\n",
       "      <td>-0.059752</td>\n",
       "      <td>378.66</td>\n",
       "      <td>0</td>\n",
       "    </tr>\n",
       "    <tr>\n",
       "      <th>3</th>\n",
       "      <td>1.0</td>\n",
       "      <td>-0.966272</td>\n",
       "      <td>-0.185226</td>\n",
       "      <td>1.792993</td>\n",
       "      <td>-0.863291</td>\n",
       "      <td>-0.010309</td>\n",
       "      <td>1.247203</td>\n",
       "      <td>0.237609</td>\n",
       "      <td>0.377436</td>\n",
       "      <td>-1.387024</td>\n",
       "      <td>...</td>\n",
       "      <td>-0.108300</td>\n",
       "      <td>0.005274</td>\n",
       "      <td>-0.190321</td>\n",
       "      <td>-1.175575</td>\n",
       "      <td>0.647376</td>\n",
       "      <td>-0.221929</td>\n",
       "      <td>0.062723</td>\n",
       "      <td>0.061458</td>\n",
       "      <td>123.50</td>\n",
       "      <td>0</td>\n",
       "    </tr>\n",
       "    <tr>\n",
       "      <th>4</th>\n",
       "      <td>2.0</td>\n",
       "      <td>-1.158233</td>\n",
       "      <td>0.877737</td>\n",
       "      <td>1.548718</td>\n",
       "      <td>0.403034</td>\n",
       "      <td>-0.407193</td>\n",
       "      <td>0.095921</td>\n",
       "      <td>0.592941</td>\n",
       "      <td>-0.270533</td>\n",
       "      <td>0.817739</td>\n",
       "      <td>...</td>\n",
       "      <td>-0.009431</td>\n",
       "      <td>0.798278</td>\n",
       "      <td>-0.137458</td>\n",
       "      <td>0.141267</td>\n",
       "      <td>-0.206010</td>\n",
       "      <td>0.502292</td>\n",
       "      <td>0.219422</td>\n",
       "      <td>0.215153</td>\n",
       "      <td>69.99</td>\n",
       "      <td>0</td>\n",
       "    </tr>\n",
       "  </tbody>\n",
       "</table>\n",
       "<p>5 rows × 31 columns</p>\n",
       "</div>"
      ],
      "text/plain": [
       "   Time        V1        V2        V3        V4        V5        V6        V7  \\\n",
       "0   0.0 -1.359807 -0.072781  2.536347  1.378155 -0.338321  0.462388  0.239599   \n",
       "1   0.0  1.191857  0.266151  0.166480  0.448154  0.060018 -0.082361 -0.078803   \n",
       "2   1.0 -1.358354 -1.340163  1.773209  0.379780 -0.503198  1.800499  0.791461   \n",
       "3   1.0 -0.966272 -0.185226  1.792993 -0.863291 -0.010309  1.247203  0.237609   \n",
       "4   2.0 -1.158233  0.877737  1.548718  0.403034 -0.407193  0.095921  0.592941   \n",
       "\n",
       "         V8        V9  ...       V21       V22       V23       V24       V25  \\\n",
       "0  0.098698  0.363787  ... -0.018307  0.277838 -0.110474  0.066928  0.128539   \n",
       "1  0.085102 -0.255425  ... -0.225775 -0.638672  0.101288 -0.339846  0.167170   \n",
       "2  0.247676 -1.514654  ...  0.247998  0.771679  0.909412 -0.689281 -0.327642   \n",
       "3  0.377436 -1.387024  ... -0.108300  0.005274 -0.190321 -1.175575  0.647376   \n",
       "4 -0.270533  0.817739  ... -0.009431  0.798278 -0.137458  0.141267 -0.206010   \n",
       "\n",
       "        V26       V27       V28  Amount  Class  \n",
       "0 -0.189115  0.133558 -0.021053  149.62      0  \n",
       "1  0.125895 -0.008983  0.014724    2.69      0  \n",
       "2 -0.139097 -0.055353 -0.059752  378.66      0  \n",
       "3 -0.221929  0.062723  0.061458  123.50      0  \n",
       "4  0.502292  0.219422  0.215153   69.99      0  \n",
       "\n",
       "[5 rows x 31 columns]"
      ]
     },
     "execution_count": 34,
     "metadata": {},
     "output_type": "execute_result"
    }
   ],
   "source": [
    "data = pd.read_csv('creditcard.csv')\n",
    "data.head()"
   ]
  },
  {
   "cell_type": "code",
   "execution_count": 35,
   "id": "damaged-horizontal",
   "metadata": {},
   "outputs": [
    {
     "data": {
      "text/html": [
       "<div>\n",
       "<style scoped>\n",
       "    .dataframe tbody tr th:only-of-type {\n",
       "        vertical-align: middle;\n",
       "    }\n",
       "\n",
       "    .dataframe tbody tr th {\n",
       "        vertical-align: top;\n",
       "    }\n",
       "\n",
       "    .dataframe thead th {\n",
       "        text-align: right;\n",
       "    }\n",
       "</style>\n",
       "<table border=\"1\" class=\"dataframe\">\n",
       "  <thead>\n",
       "    <tr style=\"text-align: right;\">\n",
       "      <th></th>\n",
       "      <th>Time</th>\n",
       "      <th>V1</th>\n",
       "      <th>V2</th>\n",
       "      <th>V3</th>\n",
       "      <th>V4</th>\n",
       "      <th>V5</th>\n",
       "      <th>V6</th>\n",
       "      <th>V7</th>\n",
       "      <th>V8</th>\n",
       "      <th>V9</th>\n",
       "      <th>...</th>\n",
       "      <th>V21</th>\n",
       "      <th>V22</th>\n",
       "      <th>V23</th>\n",
       "      <th>V24</th>\n",
       "      <th>V25</th>\n",
       "      <th>V26</th>\n",
       "      <th>V27</th>\n",
       "      <th>V28</th>\n",
       "      <th>Amount</th>\n",
       "      <th>Class</th>\n",
       "    </tr>\n",
       "  </thead>\n",
       "  <tbody>\n",
       "    <tr>\n",
       "      <th>count</th>\n",
       "      <td>284807.000000</td>\n",
       "      <td>2.848070e+05</td>\n",
       "      <td>2.848070e+05</td>\n",
       "      <td>2.848070e+05</td>\n",
       "      <td>2.848070e+05</td>\n",
       "      <td>2.848070e+05</td>\n",
       "      <td>2.848070e+05</td>\n",
       "      <td>2.848070e+05</td>\n",
       "      <td>2.848070e+05</td>\n",
       "      <td>2.848070e+05</td>\n",
       "      <td>...</td>\n",
       "      <td>2.848070e+05</td>\n",
       "      <td>2.848070e+05</td>\n",
       "      <td>2.848070e+05</td>\n",
       "      <td>2.848070e+05</td>\n",
       "      <td>2.848070e+05</td>\n",
       "      <td>2.848070e+05</td>\n",
       "      <td>2.848070e+05</td>\n",
       "      <td>2.848070e+05</td>\n",
       "      <td>284807.000000</td>\n",
       "      <td>284807.000000</td>\n",
       "    </tr>\n",
       "    <tr>\n",
       "      <th>mean</th>\n",
       "      <td>94813.859575</td>\n",
       "      <td>1.168375e-15</td>\n",
       "      <td>3.416908e-16</td>\n",
       "      <td>-1.379537e-15</td>\n",
       "      <td>2.074095e-15</td>\n",
       "      <td>9.604066e-16</td>\n",
       "      <td>1.487313e-15</td>\n",
       "      <td>-5.556467e-16</td>\n",
       "      <td>1.213481e-16</td>\n",
       "      <td>-2.406331e-15</td>\n",
       "      <td>...</td>\n",
       "      <td>1.654067e-16</td>\n",
       "      <td>-3.568593e-16</td>\n",
       "      <td>2.578648e-16</td>\n",
       "      <td>4.473266e-15</td>\n",
       "      <td>5.340915e-16</td>\n",
       "      <td>1.683437e-15</td>\n",
       "      <td>-3.660091e-16</td>\n",
       "      <td>-1.227390e-16</td>\n",
       "      <td>88.349619</td>\n",
       "      <td>0.001727</td>\n",
       "    </tr>\n",
       "    <tr>\n",
       "      <th>std</th>\n",
       "      <td>47488.145955</td>\n",
       "      <td>1.958696e+00</td>\n",
       "      <td>1.651309e+00</td>\n",
       "      <td>1.516255e+00</td>\n",
       "      <td>1.415869e+00</td>\n",
       "      <td>1.380247e+00</td>\n",
       "      <td>1.332271e+00</td>\n",
       "      <td>1.237094e+00</td>\n",
       "      <td>1.194353e+00</td>\n",
       "      <td>1.098632e+00</td>\n",
       "      <td>...</td>\n",
       "      <td>7.345240e-01</td>\n",
       "      <td>7.257016e-01</td>\n",
       "      <td>6.244603e-01</td>\n",
       "      <td>6.056471e-01</td>\n",
       "      <td>5.212781e-01</td>\n",
       "      <td>4.822270e-01</td>\n",
       "      <td>4.036325e-01</td>\n",
       "      <td>3.300833e-01</td>\n",
       "      <td>250.120109</td>\n",
       "      <td>0.041527</td>\n",
       "    </tr>\n",
       "    <tr>\n",
       "      <th>min</th>\n",
       "      <td>0.000000</td>\n",
       "      <td>-5.640751e+01</td>\n",
       "      <td>-7.271573e+01</td>\n",
       "      <td>-4.832559e+01</td>\n",
       "      <td>-5.683171e+00</td>\n",
       "      <td>-1.137433e+02</td>\n",
       "      <td>-2.616051e+01</td>\n",
       "      <td>-4.355724e+01</td>\n",
       "      <td>-7.321672e+01</td>\n",
       "      <td>-1.343407e+01</td>\n",
       "      <td>...</td>\n",
       "      <td>-3.483038e+01</td>\n",
       "      <td>-1.093314e+01</td>\n",
       "      <td>-4.480774e+01</td>\n",
       "      <td>-2.836627e+00</td>\n",
       "      <td>-1.029540e+01</td>\n",
       "      <td>-2.604551e+00</td>\n",
       "      <td>-2.256568e+01</td>\n",
       "      <td>-1.543008e+01</td>\n",
       "      <td>0.000000</td>\n",
       "      <td>0.000000</td>\n",
       "    </tr>\n",
       "    <tr>\n",
       "      <th>25%</th>\n",
       "      <td>54201.500000</td>\n",
       "      <td>-9.203734e-01</td>\n",
       "      <td>-5.985499e-01</td>\n",
       "      <td>-8.903648e-01</td>\n",
       "      <td>-8.486401e-01</td>\n",
       "      <td>-6.915971e-01</td>\n",
       "      <td>-7.682956e-01</td>\n",
       "      <td>-5.540759e-01</td>\n",
       "      <td>-2.086297e-01</td>\n",
       "      <td>-6.430976e-01</td>\n",
       "      <td>...</td>\n",
       "      <td>-2.283949e-01</td>\n",
       "      <td>-5.423504e-01</td>\n",
       "      <td>-1.618463e-01</td>\n",
       "      <td>-3.545861e-01</td>\n",
       "      <td>-3.171451e-01</td>\n",
       "      <td>-3.269839e-01</td>\n",
       "      <td>-7.083953e-02</td>\n",
       "      <td>-5.295979e-02</td>\n",
       "      <td>5.600000</td>\n",
       "      <td>0.000000</td>\n",
       "    </tr>\n",
       "    <tr>\n",
       "      <th>50%</th>\n",
       "      <td>84692.000000</td>\n",
       "      <td>1.810880e-02</td>\n",
       "      <td>6.548556e-02</td>\n",
       "      <td>1.798463e-01</td>\n",
       "      <td>-1.984653e-02</td>\n",
       "      <td>-5.433583e-02</td>\n",
       "      <td>-2.741871e-01</td>\n",
       "      <td>4.010308e-02</td>\n",
       "      <td>2.235804e-02</td>\n",
       "      <td>-5.142873e-02</td>\n",
       "      <td>...</td>\n",
       "      <td>-2.945017e-02</td>\n",
       "      <td>6.781943e-03</td>\n",
       "      <td>-1.119293e-02</td>\n",
       "      <td>4.097606e-02</td>\n",
       "      <td>1.659350e-02</td>\n",
       "      <td>-5.213911e-02</td>\n",
       "      <td>1.342146e-03</td>\n",
       "      <td>1.124383e-02</td>\n",
       "      <td>22.000000</td>\n",
       "      <td>0.000000</td>\n",
       "    </tr>\n",
       "    <tr>\n",
       "      <th>75%</th>\n",
       "      <td>139320.500000</td>\n",
       "      <td>1.315642e+00</td>\n",
       "      <td>8.037239e-01</td>\n",
       "      <td>1.027196e+00</td>\n",
       "      <td>7.433413e-01</td>\n",
       "      <td>6.119264e-01</td>\n",
       "      <td>3.985649e-01</td>\n",
       "      <td>5.704361e-01</td>\n",
       "      <td>3.273459e-01</td>\n",
       "      <td>5.971390e-01</td>\n",
       "      <td>...</td>\n",
       "      <td>1.863772e-01</td>\n",
       "      <td>5.285536e-01</td>\n",
       "      <td>1.476421e-01</td>\n",
       "      <td>4.395266e-01</td>\n",
       "      <td>3.507156e-01</td>\n",
       "      <td>2.409522e-01</td>\n",
       "      <td>9.104512e-02</td>\n",
       "      <td>7.827995e-02</td>\n",
       "      <td>77.165000</td>\n",
       "      <td>0.000000</td>\n",
       "    </tr>\n",
       "    <tr>\n",
       "      <th>max</th>\n",
       "      <td>172792.000000</td>\n",
       "      <td>2.454930e+00</td>\n",
       "      <td>2.205773e+01</td>\n",
       "      <td>9.382558e+00</td>\n",
       "      <td>1.687534e+01</td>\n",
       "      <td>3.480167e+01</td>\n",
       "      <td>7.330163e+01</td>\n",
       "      <td>1.205895e+02</td>\n",
       "      <td>2.000721e+01</td>\n",
       "      <td>1.559499e+01</td>\n",
       "      <td>...</td>\n",
       "      <td>2.720284e+01</td>\n",
       "      <td>1.050309e+01</td>\n",
       "      <td>2.252841e+01</td>\n",
       "      <td>4.584549e+00</td>\n",
       "      <td>7.519589e+00</td>\n",
       "      <td>3.517346e+00</td>\n",
       "      <td>3.161220e+01</td>\n",
       "      <td>3.384781e+01</td>\n",
       "      <td>25691.160000</td>\n",
       "      <td>1.000000</td>\n",
       "    </tr>\n",
       "  </tbody>\n",
       "</table>\n",
       "<p>8 rows × 31 columns</p>\n",
       "</div>"
      ],
      "text/plain": [
       "                Time            V1            V2            V3            V4  \\\n",
       "count  284807.000000  2.848070e+05  2.848070e+05  2.848070e+05  2.848070e+05   \n",
       "mean    94813.859575  1.168375e-15  3.416908e-16 -1.379537e-15  2.074095e-15   \n",
       "std     47488.145955  1.958696e+00  1.651309e+00  1.516255e+00  1.415869e+00   \n",
       "min         0.000000 -5.640751e+01 -7.271573e+01 -4.832559e+01 -5.683171e+00   \n",
       "25%     54201.500000 -9.203734e-01 -5.985499e-01 -8.903648e-01 -8.486401e-01   \n",
       "50%     84692.000000  1.810880e-02  6.548556e-02  1.798463e-01 -1.984653e-02   \n",
       "75%    139320.500000  1.315642e+00  8.037239e-01  1.027196e+00  7.433413e-01   \n",
       "max    172792.000000  2.454930e+00  2.205773e+01  9.382558e+00  1.687534e+01   \n",
       "\n",
       "                 V5            V6            V7            V8            V9  \\\n",
       "count  2.848070e+05  2.848070e+05  2.848070e+05  2.848070e+05  2.848070e+05   \n",
       "mean   9.604066e-16  1.487313e-15 -5.556467e-16  1.213481e-16 -2.406331e-15   \n",
       "std    1.380247e+00  1.332271e+00  1.237094e+00  1.194353e+00  1.098632e+00   \n",
       "min   -1.137433e+02 -2.616051e+01 -4.355724e+01 -7.321672e+01 -1.343407e+01   \n",
       "25%   -6.915971e-01 -7.682956e-01 -5.540759e-01 -2.086297e-01 -6.430976e-01   \n",
       "50%   -5.433583e-02 -2.741871e-01  4.010308e-02  2.235804e-02 -5.142873e-02   \n",
       "75%    6.119264e-01  3.985649e-01  5.704361e-01  3.273459e-01  5.971390e-01   \n",
       "max    3.480167e+01  7.330163e+01  1.205895e+02  2.000721e+01  1.559499e+01   \n",
       "\n",
       "       ...           V21           V22           V23           V24  \\\n",
       "count  ...  2.848070e+05  2.848070e+05  2.848070e+05  2.848070e+05   \n",
       "mean   ...  1.654067e-16 -3.568593e-16  2.578648e-16  4.473266e-15   \n",
       "std    ...  7.345240e-01  7.257016e-01  6.244603e-01  6.056471e-01   \n",
       "min    ... -3.483038e+01 -1.093314e+01 -4.480774e+01 -2.836627e+00   \n",
       "25%    ... -2.283949e-01 -5.423504e-01 -1.618463e-01 -3.545861e-01   \n",
       "50%    ... -2.945017e-02  6.781943e-03 -1.119293e-02  4.097606e-02   \n",
       "75%    ...  1.863772e-01  5.285536e-01  1.476421e-01  4.395266e-01   \n",
       "max    ...  2.720284e+01  1.050309e+01  2.252841e+01  4.584549e+00   \n",
       "\n",
       "                V25           V26           V27           V28         Amount  \\\n",
       "count  2.848070e+05  2.848070e+05  2.848070e+05  2.848070e+05  284807.000000   \n",
       "mean   5.340915e-16  1.683437e-15 -3.660091e-16 -1.227390e-16      88.349619   \n",
       "std    5.212781e-01  4.822270e-01  4.036325e-01  3.300833e-01     250.120109   \n",
       "min   -1.029540e+01 -2.604551e+00 -2.256568e+01 -1.543008e+01       0.000000   \n",
       "25%   -3.171451e-01 -3.269839e-01 -7.083953e-02 -5.295979e-02       5.600000   \n",
       "50%    1.659350e-02 -5.213911e-02  1.342146e-03  1.124383e-02      22.000000   \n",
       "75%    3.507156e-01  2.409522e-01  9.104512e-02  7.827995e-02      77.165000   \n",
       "max    7.519589e+00  3.517346e+00  3.161220e+01  3.384781e+01   25691.160000   \n",
       "\n",
       "               Class  \n",
       "count  284807.000000  \n",
       "mean        0.001727  \n",
       "std         0.041527  \n",
       "min         0.000000  \n",
       "25%         0.000000  \n",
       "50%         0.000000  \n",
       "75%         0.000000  \n",
       "max         1.000000  \n",
       "\n",
       "[8 rows x 31 columns]"
      ]
     },
     "execution_count": 35,
     "metadata": {},
     "output_type": "execute_result"
    }
   ],
   "source": [
    "data.describe()"
   ]
  },
  {
   "cell_type": "code",
   "execution_count": 36,
   "id": "employed-bacon",
   "metadata": {},
   "outputs": [
    {
     "name": "stdout",
     "output_type": "stream",
     "text": [
      "<class 'pandas.core.frame.DataFrame'>\n",
      "RangeIndex: 284807 entries, 0 to 284806\n",
      "Data columns (total 31 columns):\n",
      " #   Column  Non-Null Count   Dtype  \n",
      "---  ------  --------------   -----  \n",
      " 0   Time    284807 non-null  float64\n",
      " 1   V1      284807 non-null  float64\n",
      " 2   V2      284807 non-null  float64\n",
      " 3   V3      284807 non-null  float64\n",
      " 4   V4      284807 non-null  float64\n",
      " 5   V5      284807 non-null  float64\n",
      " 6   V6      284807 non-null  float64\n",
      " 7   V7      284807 non-null  float64\n",
      " 8   V8      284807 non-null  float64\n",
      " 9   V9      284807 non-null  float64\n",
      " 10  V10     284807 non-null  float64\n",
      " 11  V11     284807 non-null  float64\n",
      " 12  V12     284807 non-null  float64\n",
      " 13  V13     284807 non-null  float64\n",
      " 14  V14     284807 non-null  float64\n",
      " 15  V15     284807 non-null  float64\n",
      " 16  V16     284807 non-null  float64\n",
      " 17  V17     284807 non-null  float64\n",
      " 18  V18     284807 non-null  float64\n",
      " 19  V19     284807 non-null  float64\n",
      " 20  V20     284807 non-null  float64\n",
      " 21  V21     284807 non-null  float64\n",
      " 22  V22     284807 non-null  float64\n",
      " 23  V23     284807 non-null  float64\n",
      " 24  V24     284807 non-null  float64\n",
      " 25  V25     284807 non-null  float64\n",
      " 26  V26     284807 non-null  float64\n",
      " 27  V27     284807 non-null  float64\n",
      " 28  V28     284807 non-null  float64\n",
      " 29  Amount  284807 non-null  float64\n",
      " 30  Class   284807 non-null  int64  \n",
      "dtypes: float64(30), int64(1)\n",
      "memory usage: 67.4 MB\n"
     ]
    }
   ],
   "source": [
    "data.info()"
   ]
  },
  {
   "cell_type": "code",
   "execution_count": 37,
   "id": "powered-artist",
   "metadata": {},
   "outputs": [
    {
     "data": {
      "text/plain": [
       "<seaborn.axisgrid.FacetGrid at 0x22f2c7849a0>"
      ]
     },
     "execution_count": 37,
     "metadata": {},
     "output_type": "execute_result"
    },
    {
     "data": {
      "image/png": "[encoded data removed]",
      "text/plain": [
       "<Figure size 401.625x360 with 1 Axes>"
      ]
     },
     "metadata": {},
     "output_type": "display_data"
    }
   ],
   "source": [
    "# Plotting graph to understand the relationship the variables\n",
    "sns.relplot(x= 'Amount', y=\"Time\", hue=\"Class\",data=data)"
   ]
  },
  {
   "cell_type": "markdown",
   "id": "cheap-limitation",
   "metadata": {},
   "source": [
    "We can infer that all the columns in dataset except the time and amount has already been normalized and we don't have any null values."
   ]
  },
  {
   "cell_type": "code",
   "execution_count": 38,
   "id": "hidden-wilderness",
   "metadata": {},
   "outputs": [
    {
     "name": "stdout",
     "output_type": "stream",
     "text": [
      "Number of normal transactions: 284315 that is 99.83% of dataset\n",
      "Number of fraudulent transactions: 492 that is 0.17% of dataset\n",
      "\n"
     ]
    },
    {
     "data": {
      "image/png": "[encoded data removed]",
      "text/plain": [
       "<Figure size 432x288 with 1 Axes>"
      ]
     },
     "metadata": {},
     "output_type": "display_data"
    }
   ],
   "source": [
    "# Check the distribution of data\n",
    "distribution = data.groupby(by=['Class']).size()\n",
    "print(\"Number of normal transactions: {} that is {}% of dataset\".format(distribution[0], \n",
    "                                                                        round(distribution[0] / len(data) * 100, 2)))\n",
    "print(\"Number of fraudulent transactions: {} that is {}% of dataset\\n\".format(distribution[1], \n",
    "                                                                        round(distribution[1] / len(data) * 100, 2)))\n",
    "\n",
    "ax = sns.countplot(data['Class'])\n",
    "ax.set_xticklabels(['Normal', 'Fraud'])\n",
    "plt.show()"
   ]
  },
  {
   "cell_type": "code",
   "execution_count": 39,
   "id": "illegal-colorado",
   "metadata": {},
   "outputs": [
    {
     "data": {
      "image/png": "[encoded data removed]",
      "text/plain": [
       "<Figure size 864x648 with 2 Axes>"
      ]
     },
     "metadata": {},
     "output_type": "display_data"
    }
   ],
   "source": [
    "# Correlation matrix\n",
    "corrmat = data.corr()\n",
    "fig = plt.figure(figsize =(12,9))\n",
    "\n",
    "sns.heatmap(corrmat, vmax = .8, square = True)\n",
    "plt.show()"
   ]
  },
  {
   "cell_type": "markdown",
   "id": "configured-invalid",
   "metadata": {},
   "source": [
    "We can see that the dataset is highly imbalanced and won't be useful for training directly. So, we'll have to sample few data points and then train our model."
   ]
  },
  {
   "cell_type": "code",
   "execution_count": 40,
   "id": "liked-discussion",
   "metadata": {},
   "outputs": [
    {
     "data": {
      "image/png": "[encoded data removed]",
      "text/plain": [
       "<Figure size 1152x288 with 2 Axes>"
      ]
     },
     "metadata": {},
     "output_type": "display_data"
    }
   ],
   "source": [
    "figure, ax = plt.subplots(1, 2, figsize=(16, 4))\n",
    "\n",
    "amount_normal = data.loc[data['Class'] == 0]['Amount'].values\n",
    "amount_fraud = data.loc[data['Class'] == 1]['Amount'].values\n",
    "\n",
    "# Plot the distribution of amount in normal transactions\n",
    "sns.distplot(amount_normal, ax=ax[0], color='orange')\n",
    "ax[0].set_title('Distribution of Transaction Amount in Normal Transactions')\n",
    "ax[0].set_xlabel('Amount of transaction')\n",
    "ax[0].set_xlim([min(amount_normal), max(amount_normal)])\n",
    "\n",
    "# Plot the distribution of amount in fraud transactions\n",
    "sns.distplot(amount_fraud, ax=ax[1], color='purple')\n",
    "ax[1].set_title('Distribution of Transaction Amount in Fraudulent Transactions')\n",
    "ax[1].set_xlabel('Amount of transaction')\n",
    "ax[1].set_xlim([min(amount_fraud), max(amount_fraud)])\n",
    "plt.tight_layout()"
   ]
  },
  {
   "cell_type": "code",
   "execution_count": 41,
   "id": "dimensional-maldives",
   "metadata": {},
   "outputs": [
    {
     "data": {
      "image/png": "[encoded data removed]",
      "text/plain": [
       "<Figure size 1152x288 with 2 Axes>"
      ]
     },
     "metadata": {},
     "output_type": "display_data"
    }
   ],
   "source": [
    "figure, ax = plt.subplots(1, 2, figsize=(16, 4))\n",
    "\n",
    "time_normal = data.loc[data['Class'] == 0]['Time'].values / 3600\n",
    "time_fraud = data.loc[data['Class'] == 1]['Time'].values / 3600\n",
    "\n",
    "# Plot the distribution of time in normal transactions\n",
    "sns.distplot(time_normal, ax=ax[0], color='orange', bins=24)\n",
    "ax[0].set_title('Distribution of Transaction Time in Normal Transactions')\n",
    "ax[0].set_xlabel('Time of transaction')\n",
    "ax[0].set_xlim([min(time_normal), max(time_normal)])\n",
    "\n",
    "# Plot the distribution of time in fraud transactions\n",
    "sns.distplot(time_fraud, ax=ax[1], color='purple', bins=24)\n",
    "ax[1].set_title('Distribution of Transaction Time in Fraudulent Transactions')\n",
    "ax[1].set_xlabel('Time of transaction')\n",
    "ax[1].set_xlim([min(time_fraud), max(time_fraud)])\n",
    "plt.tight_layout()"
   ]
  },
  {
   "cell_type": "markdown",
   "id": "marked-sally",
   "metadata": {},
   "source": [
    "### Undersampling the dataset"
   ]
  },
  {
   "cell_type": "code",
   "execution_count": 42,
   "id": "blind-pencil",
   "metadata": {},
   "outputs": [],
   "source": [
    "\n",
    "us = RandomUnderSampler(sampling_strategy = 0.80)\n",
    "X_sub, y_sub = us.fit_resample(data.drop(['Class'], axis=1), data['Class'])"
   ]
  },
  {
   "cell_type": "markdown",
   "id": "ultimate-setup",
   "metadata": {},
   "source": [
    "### Check the distributing of data after undersampling "
   ]
  },
  {
   "cell_type": "code",
   "execution_count": 43,
   "id": "potential-breach",
   "metadata": {},
   "outputs": [
    {
     "name": "stdout",
     "output_type": "stream",
     "text": [
      "Number of normal transactions: 615 that is 55.56% of dataset\n",
      "Number of fraudulent transactions: 492 that is 44.44% of dataset\n",
      "\n"
     ]
    },
    {
     "data": {
      "image/png": "[encoded data removed]",
      "text/plain": [
       "<Figure size 432x288 with 1 Axes>"
      ]
     },
     "metadata": {},
     "output_type": "display_data"
    }
   ],
   "source": [
    "distribution = y_sub.value_counts()\n",
    "print(\"Number of normal transactions: {} that is {}% of dataset\".format(distribution[0], \n",
    "                                                                        round(distribution[0] / len(y_sub) * 100, 2)))\n",
    "print(\"Number of fraudulent transactions: {} that is {}% of dataset\\n\".format(distribution[1], \n",
    "                                                                        round(distribution[1] / len(y_sub) * 100, 2)))\n",
    "\n",
    "ax = sns.countplot(y_sub)\n",
    "ax.set_xticklabels(['Normal', 'Fraud'])\n",
    "plt.show()"
   ]
  },
  {
   "cell_type": "markdown",
   "id": "substantial-colors",
   "metadata": {},
   "source": [
    "### Divide the data into train and test samples"
   ]
  },
  {
   "cell_type": "code",
   "execution_count": 44,
   "id": "swiss-gilbert",
   "metadata": {},
   "outputs": [
    {
     "name": "stdout",
     "output_type": "stream",
     "text": [
      "The shape of training data is (830, 30).\n",
      "The shape of training data is (277, 30).\n"
     ]
    }
   ],
   "source": [
    "X_train, X_test, y_train, y_test = train_test_split(X_sub, y_sub, test_size=0.25, random_state=45)\n",
    "print(\"The shape of training data is {}.\".format(X_train.shape))\n",
    "print(\"The shape of training data is {}.\".format(X_test.shape))"
   ]
  },
  {
   "cell_type": "code",
   "execution_count": 45,
   "id": "formal-comfort",
   "metadata": {},
   "outputs": [],
   "source": [
    "# Scale the data (time and amount is not scaled)\n",
    "sc = StandardScaler()\n",
    "sc.fit(X_train)\n",
    "\n",
    "# Transform the data\n",
    "X_train = sc.transform(X_train)\n",
    "X_test = sc.transform(X_test)"
   ]
  },
  {
   "cell_type": "code",
   "execution_count": 46,
   "id": "diagnostic-present",
   "metadata": {},
   "outputs": [],
   "source": [
    "# List of classifier we'll be using\n",
    "classifiers = [\n",
    "    ('LogisticRegression', LogisticRegression()),\n",
    "    ('K-Nearest Neighbor', KNeighborsClassifier()),\n",
    "    ('Support Vector Machine', SVC()),\n",
    "    ('Decision Tree Classifier', DecisionTreeClassifier()),\n",
    "    ('Random Forest Classifier', RandomForestClassifier())\n",
    "]"
   ]
  },
  {
   "cell_type": "markdown",
   "id": "synthetic-defensive",
   "metadata": {},
   "source": [
    "### Evaluate the model with default parameters first"
   ]
  },
  {
   "cell_type": "code",
   "execution_count": 47,
   "id": "reasonable-manual",
   "metadata": {},
   "outputs": [
    {
     "name": "stdout",
     "output_type": "stream",
     "text": [
      "Accuracy score for LogisticRegression: 94.0%.\n",
      "Accuracy score for K-Nearest Neighbor: 92.0%.\n",
      "Accuracy score for Support Vector Machine: 93.0%.\n",
      "Accuracy score for Decision Tree Classifier: 93.0%.\n",
      "Accuracy score for Random Forest Classifier: 94.0%.\n"
     ]
    }
   ],
   "source": [
    "for name, classifier in classifiers:\n",
    "    classifier.fit(X_train, y_train)\n",
    "    score = cross_val_score(classifier, X_train, y_train, cv=5)\n",
    "    print(f'Accuracy score for {name}: {round(score.mean(), 2) * 100}%.')"
   ]
  },
  {
   "cell_type": "markdown",
   "id": "tropical-reality",
   "metadata": {},
   "source": [
    "## Hyper-parameter Tuning"
   ]
  },
  {
   "cell_type": "code",
   "execution_count": 48,
   "id": "needed-persian",
   "metadata": {},
   "outputs": [
    {
     "name": "stdout",
     "output_type": "stream",
     "text": [
      "Accuracy score with best parameterized Logistic Regression: 94.0%.\n",
      "Accuracy score with best parameterized KNN Classifier: 94.0%.\n",
      "Accuracy score with best parameterized SVM Classifier: 94.0%.\n",
      "Accuracy score with best parameterized Decision Tree: 92.0%.\n",
      "Accuracy score with best parameterized Random Forest: 94.0%.\n"
     ]
    }
   ],
   "source": [
    "# We'll use the Grid Search CV to find the best parameters\n",
    "\n",
    "# Logistic Regression\n",
    "logistic_regression_params = {'penalty': ['l1', 'l2'], 'C': [0.001, 0.01, 0.1, 1, 10]}\n",
    "grid_cv_lr = GridSearchCV(estimator=LogisticRegression(), param_grid=logistic_regression_params)\n",
    "grid_cv_lr.fit(X_train, y_train)\n",
    "best_lr = grid_cv_lr.best_estimator_\n",
    "best_lr_score = cross_val_score(best_lr, X_train, y_train, cv=5)\n",
    "print(f'Accuracy score with best parameterized Logistic Regression: {round(best_lr_score.mean(), 2) * 100}%.')\n",
    "\n",
    "# KNN\n",
    "knn_params = {'n_neighbors': [2, 3, 4, 5], 'algorithm': ['auto', 'ball_tree', 'kd_tree']}\n",
    "grid_cv_knn = GridSearchCV(estimator=KNeighborsClassifier(), param_grid=knn_params)\n",
    "grid_cv_knn.fit(X_train, y_train)\n",
    "best_knn = grid_cv_knn.best_estimator_\n",
    "best_knn_score = cross_val_score(best_knn, X_train, y_train, cv=5)\n",
    "print(f'Accuracy score with best parameterized KNN Classifier: {round(best_knn_score.mean(), 2) * 100}%.')\n",
    "\n",
    "# Support Vector Machine Classifier\n",
    "svc_params = {'kernel': ['rbf', 'poly', 'sigmoid', 'linear'], 'C': [0.5, 0.7, 0.9, 1]}\n",
    "grid_cv_svc = GridSearchCV(estimator=SVC(), param_grid=svc_params)\n",
    "grid_cv_svc.fit(X_train, y_train)\n",
    "best_svc = grid_cv_svc.best_estimator_\n",
    "best_svc_score = cross_val_score(best_svc, X_train, y_train, cv=5)\n",
    "print(f'Accuracy score with best parameterized SVM Classifier: {round(best_svc_score.mean(), 2) * 100}%.')\n",
    "\n",
    "# Decision Tree Classifier\n",
    "decision_tree_params = {'criterion': ['gini', 'entropy'], 'max_depth': [2, 3, 4, 5]}\n",
    "grid_cv_tree = GridSearchCV(estimator=DecisionTreeClassifier(), param_grid=decision_tree_params)\n",
    "grid_cv_tree.fit(X_train, y_train)\n",
    "best_tree = grid_cv_tree.best_estimator_\n",
    "best_tree_score = cross_val_score(best_tree, X_train, y_train, cv=5)\n",
    "print(f'Accuracy score with best parameterized Decision Tree: {round(best_tree_score.mean(), 2) * 100}%.')\n",
    "\n",
    "# Random Forest Classifier\n",
    "random_forest_params = {'max_depth': [None, 80], \n",
    "                        'min_samples_leaf': [2, 3, 4], \n",
    "                        'n_estimators': [10, 20, 30],\n",
    "                        'min_samples_split': [2, 4, 6]}\n",
    "grid_cv_forest = GridSearchCV(estimator=RandomForestClassifier(), param_grid=random_forest_params)\n",
    "grid_cv_forest.fit(X_train, y_train)\n",
    "best_forest = grid_cv_forest.best_estimator_\n",
    "best_forest_score = cross_val_score(best_forest, X_train, y_train, cv=5)\n",
    "print(f'Accuracy score with best parameterized Random Forest: {round(best_forest_score.mean(), 2) * 100}%.')"
   ]
  },
  {
   "cell_type": "code",
   "execution_count": 49,
   "id": "competent-report",
   "metadata": {},
   "outputs": [],
   "source": [
    "# Here we'll see more metrics from all the models on the test data\n",
    "y_pred_lr = best_lr.predict(X_test)\n",
    "y_pred_knn = best_knn.predict(X_test)\n",
    "y_pred_svc = best_svc.predict(X_test)\n",
    "y_pred_tree = best_tree.predict(X_test)\n",
    "y_pred_forest = best_forest.predict(X_test)"
   ]
  },
  {
   "cell_type": "markdown",
   "id": "adverse-testimony",
   "metadata": {},
   "source": [
    "### Analysis of Logistic Regression"
   ]
  },
  {
   "cell_type": "code",
   "execution_count": 50,
   "id": "conventional-catalog",
   "metadata": {},
   "outputs": [
    {
     "name": "stdout",
     "output_type": "stream",
     "text": [
      "              precision    recall  f1-score   support\n",
      "\n",
      "           0       0.97      0.92      0.94       152\n",
      "           1       0.91      0.96      0.93       125\n",
      "\n",
      "    accuracy                           0.94       277\n",
      "   macro avg       0.94      0.94      0.94       277\n",
      "weighted avg       0.94      0.94      0.94       277\n",
      "\n"
     ]
    },
    {
     "data": {
      "image/png": "[encoded data removed]",
      "text/plain": [
       "<Figure size 432x288 with 1 Axes>"
      ]
     },
     "metadata": {},
     "output_type": "display_data"
    }
   ],
   "source": [
    "print(classification_report(y_pred_lr, y_test))\n",
    "cf_matrix = confusion_matrix(y_pred_lr, y_test)\n",
    "cf_dataframe = pd.DataFrame(cf_matrix, index=['Normal', 'Fraud'], columns=['Normal', 'Fraud'])\n",
    "\n",
    "sns.heatmap(cf_dataframe, annot=True, fmt='g', cmap='viridis', cbar=None)\n",
    "plt.title('Confusion Matrix Logistic Regression')\n",
    "plt.xlabel('Predicted Class')\n",
    "plt.ylabel('Actual Class')\n",
    "plt.show()"
   ]
  },
  {
   "cell_type": "markdown",
   "id": "virgin-stereo",
   "metadata": {},
   "source": [
    "### Analysis of K-Nearest Neighbors "
   ]
  },
  {
   "cell_type": "code",
   "execution_count": 51,
   "id": "criminal-terrace",
   "metadata": {},
   "outputs": [
    {
     "name": "stdout",
     "output_type": "stream",
     "text": [
      "              precision    recall  f1-score   support\n",
      "\n",
      "           0       0.97      0.90      0.93       155\n",
      "           1       0.89      0.96      0.92       122\n",
      "\n",
      "    accuracy                           0.93       277\n",
      "   macro avg       0.93      0.93      0.93       277\n",
      "weighted avg       0.93      0.93      0.93       277\n",
      "\n"
     ]
    },
    {
     "data": {
      "image/png": "[encoded data removed]",
      "text/plain": [
       "<Figure size 432x288 with 1 Axes>"
      ]
     },
     "metadata": {},
     "output_type": "display_data"
    }
   ],
   "source": [
    "print(classification_report(y_pred_knn, y_test))\n",
    "cf_matrix = confusion_matrix(y_pred_knn, y_test)\n",
    "cf_dataframe = pd.DataFrame(cf_matrix, index=['Normal', 'Fraud'], columns=['Normal', 'Fraud'])\n",
    "\n",
    "sns.heatmap(cf_dataframe, annot=True, fmt='g', cmap='viridis', cbar=None)\n",
    "plt.title('Confusion Matrix KNN')\n",
    "plt.xlabel('Predicted Class')\n",
    "plt.ylabel('Actual Class')\n",
    "plt.show()"
   ]
  },
  {
   "cell_type": "markdown",
   "id": "natural-fight",
   "metadata": {},
   "source": [
    "### Analysis of Support Vector Machine"
   ]
  },
  {
   "cell_type": "code",
   "execution_count": 52,
   "id": "altered-recommendation",
   "metadata": {},
   "outputs": [
    {
     "name": "stdout",
     "output_type": "stream",
     "text": [
      "              precision    recall  f1-score   support\n",
      "\n",
      "           0       0.97      0.92      0.94       154\n",
      "           1       0.90      0.97      0.93       123\n",
      "\n",
      "    accuracy                           0.94       277\n",
      "   macro avg       0.94      0.94      0.94       277\n",
      "weighted avg       0.94      0.94      0.94       277\n",
      "\n"
     ]
    },
    {
     "data": {
      "image/png": "[encoded data removed]",
      "text/plain": [
       "<Figure size 432x288 with 1 Axes>"
      ]
     },
     "metadata": {},
     "output_type": "display_data"
    }
   ],
   "source": [
    "print(classification_report(y_pred_svc, y_test))\n",
    "cf_matrix = confusion_matrix(y_pred_svc, y_test)\n",
    "cf_dataframe = pd.DataFrame(cf_matrix, index=['Normal', 'Fraud'], columns=['Normal', 'Fraud'])\n",
    "\n",
    "sns.heatmap(cf_dataframe, annot=True, fmt='g', cmap='viridis', cbar=None)\n",
    "plt.title('Confusion Matrix Support Vector Machine')\n",
    "plt.xlabel('Predicted Class')\n",
    "plt.ylabel('Actual Class')\n",
    "plt.show()"
   ]
  },
  {
   "cell_type": "markdown",
   "id": "assigned-print",
   "metadata": {},
   "source": [
    "### Analysis of Random Forest Classifier "
   ]
  },
  {
   "cell_type": "code",
   "execution_count": 53,
   "id": "necessary-wayne",
   "metadata": {},
   "outputs": [
    {
     "name": "stdout",
     "output_type": "stream",
     "text": [
      "              precision    recall  f1-score   support\n",
      "\n",
      "           0       0.98      0.93      0.95       153\n",
      "           1       0.92      0.98      0.95       124\n",
      "\n",
      "    accuracy                           0.95       277\n",
      "   macro avg       0.95      0.95      0.95       277\n",
      "weighted avg       0.95      0.95      0.95       277\n",
      "\n"
     ]
    },
    {
     "data": {
      "image/png": "[encoded data removed]",
      "text/plain": [
       "<Figure size 432x288 with 1 Axes>"
      ]
     },
     "metadata": {},
     "output_type": "display_data"
    }
   ],
   "source": [
    "print(classification_report(y_pred_forest, y_test))\n",
    "cf_matrix = confusion_matrix(y_pred_forest, y_test)\n",
    "cf_dataframe = pd.DataFrame(cf_matrix, index=['Normal', 'Fraud'], columns=['Normal', 'Fraud'])\n",
    "\n",
    "sns.heatmap(cf_dataframe, annot=True, fmt='g', cmap='viridis', cbar=None)\n",
    "plt.title('Confusion Matrix Random Forest Classifier')\n",
    "plt.xlabel('Predicted Class')\n",
    "plt.ylabel('Actual Class')\n",
    "plt.show()"
   ]
  },
  {
   "cell_type": "markdown",
   "id": "exotic-reminder",
   "metadata": {},
   "source": [
    "### Analysis of Decision Tree Classifier "
   ]
  },
  {
   "cell_type": "code",
   "execution_count": 54,
   "id": "historic-solid",
   "metadata": {},
   "outputs": [
    {
     "name": "stdout",
     "output_type": "stream",
     "text": [
      "              precision    recall  f1-score   support\n",
      "\n",
      "           0       0.92      0.92      0.92       145\n",
      "           1       0.92      0.92      0.92       132\n",
      "\n",
      "    accuracy                           0.92       277\n",
      "   macro avg       0.92      0.92      0.92       277\n",
      "weighted avg       0.92      0.92      0.92       277\n",
      "\n"
     ]
    },
    {
     "data": {
      "image/png": "[encoded data removed]",
      "text/plain": [
       "<Figure size 432x288 with 1 Axes>"
      ]
     },
     "metadata": {},
     "output_type": "display_data"
    }
   ],
   "source": [
    "print(classification_report(y_pred_tree, y_test))\n",
    "cf_matrix = confusion_matrix(y_pred_tree, y_test)\n",
    "cf_dataframe = pd.DataFrame(cf_matrix, index=['Normal', 'Fraud'], columns=['Normal', 'Fraud'])\n",
    "\n",
    "sns.heatmap(cf_dataframe, annot=True, fmt='g', cmap='viridis', cbar=None)\n",
    "plt.title('Confusion Matrix Decision Tree Classifier')\n",
    "plt.xlabel('Predicted Class')\n",
    "plt.ylabel('Actual Class')\n",
    "plt.show()"
   ]
  },
  {
   "cell_type": "markdown",
   "id": "prerequisite-ribbon",
   "metadata": {},
   "source": [
    "### A simple Neural Network Model"
   ]
  },
  {
   "cell_type": "code",
   "execution_count": 55,
   "id": "associate-calvin",
   "metadata": {},
   "outputs": [],
   "source": [
    "def simple_neuralnet(X_train, y_train, X_test, y_test):\n",
    "    model = Sequential()\n",
    "    model.add(Dense(128, activation='relu', input_dim=X_train.shape[1]))\n",
    "    model.add(Dropout(0.2))\n",
    "    model.add(Dense(64, activation='relu'))\n",
    "    model.add(Dropout(0.2))\n",
    "    model.add(Dense(64, activation='relu'))\n",
    "    model.add(Dropout(0.2))\n",
    "    model.add(Dense(1, activation='sigmoid'))\n",
    "    model.compile(loss='binary_crossentropy', optimizer='adam', metrics=['accuracy'])\n",
    "    \n",
    "    model.fit(X_train, y_train, epochs=50, batch_size=16, validation_data=(X_test, y_test))\n",
    "    \n",
    "    predictions = model.predict(X_test)\n",
    "    predictions = predictions.round()\n",
    "    return predictions"
   ]
  },
  {
   "cell_type": "code",
   "execution_count": 56,
   "id": "outside-oriental",
   "metadata": {},
   "outputs": [
    {
     "name": "stdout",
     "output_type": "stream",
     "text": [
      "Epoch 1/50\n",
      "52/52 [==============================] - 0s 7ms/step - loss: 0.4335 - accuracy: 0.8253 - val_loss: 0.2519 - val_accuracy: 0.9061\n",
      "Epoch 2/50\n",
      "52/52 [==============================] - 0s 3ms/step - loss: 0.2219 - accuracy: 0.9301 - val_loss: 0.2029 - val_accuracy: 0.9134\n",
      "Epoch 3/50\n",
      "52/52 [==============================] - 0s 3ms/step - loss: 0.1924 - accuracy: 0.9386 - val_loss: 0.1842 - val_accuracy: 0.9314\n",
      "Epoch 4/50\n",
      "52/52 [==============================] - 0s 3ms/step - loss: 0.1743 - accuracy: 0.9398 - val_loss: 0.1737 - val_accuracy: 0.9314\n",
      "Epoch 5/50\n",
      "52/52 [==============================] - 0s 3ms/step - loss: 0.1525 - accuracy: 0.9422 - val_loss: 0.1808 - val_accuracy: 0.9350\n",
      "Epoch 6/50\n",
      "52/52 [==============================] - 0s 3ms/step - loss: 0.1456 - accuracy: 0.9446 - val_loss: 0.1576 - val_accuracy: 0.9350\n",
      "Epoch 7/50\n",
      "52/52 [==============================] - 0s 3ms/step - loss: 0.1340 - accuracy: 0.9542 - val_loss: 0.1646 - val_accuracy: 0.9350\n",
      "Epoch 8/50\n",
      "52/52 [==============================] - 0s 3ms/step - loss: 0.1277 - accuracy: 0.9590 - val_loss: 0.1857 - val_accuracy: 0.9314\n",
      "Epoch 9/50\n",
      "52/52 [==============================] - 0s 3ms/step - loss: 0.1281 - accuracy: 0.9530 - val_loss: 0.1762 - val_accuracy: 0.9458\n",
      "Epoch 10/50\n",
      "52/52 [==============================] - 0s 3ms/step - loss: 0.1244 - accuracy: 0.9518 - val_loss: 0.1767 - val_accuracy: 0.9458\n",
      "Epoch 11/50\n",
      "52/52 [==============================] - 0s 3ms/step - loss: 0.1216 - accuracy: 0.9554 - val_loss: 0.1761 - val_accuracy: 0.9458\n",
      "Epoch 12/50\n",
      "52/52 [==============================] - 0s 3ms/step - loss: 0.1088 - accuracy: 0.9614 - val_loss: 0.1704 - val_accuracy: 0.9278\n",
      "Epoch 13/50\n",
      "52/52 [==============================] - 0s 3ms/step - loss: 0.1002 - accuracy: 0.9614 - val_loss: 0.1883 - val_accuracy: 0.9314\n",
      "Epoch 14/50\n",
      "52/52 [==============================] - 0s 3ms/step - loss: 0.0977 - accuracy: 0.9627 - val_loss: 0.1901 - val_accuracy: 0.9422\n",
      "Epoch 15/50\n",
      "52/52 [==============================] - 0s 3ms/step - loss: 0.0879 - accuracy: 0.9747 - val_loss: 0.1933 - val_accuracy: 0.9242\n",
      "Epoch 16/50\n",
      "52/52 [==============================] - 0s 3ms/step - loss: 0.0912 - accuracy: 0.9735 - val_loss: 0.2001 - val_accuracy: 0.9386\n",
      "Epoch 17/50\n",
      "52/52 [==============================] - 0s 3ms/step - loss: 0.0745 - accuracy: 0.9723 - val_loss: 0.1945 - val_accuracy: 0.9386\n",
      "Epoch 18/50\n",
      "52/52 [==============================] - 0s 3ms/step - loss: 0.0779 - accuracy: 0.9735 - val_loss: 0.2041 - val_accuracy: 0.9242\n",
      "Epoch 19/50\n",
      "52/52 [==============================] - 0s 3ms/step - loss: 0.0654 - accuracy: 0.9819 - val_loss: 0.1900 - val_accuracy: 0.9314\n",
      "Epoch 20/50\n",
      "52/52 [==============================] - 0s 3ms/step - loss: 0.0682 - accuracy: 0.9783 - val_loss: 0.2075 - val_accuracy: 0.9386\n",
      "Epoch 21/50\n",
      "52/52 [==============================] - 0s 4ms/step - loss: 0.0718 - accuracy: 0.9771 - val_loss: 0.1998 - val_accuracy: 0.9206\n",
      "Epoch 22/50\n",
      "52/52 [==============================] - 0s 4ms/step - loss: 0.0653 - accuracy: 0.9771 - val_loss: 0.2122 - val_accuracy: 0.9206\n",
      "Epoch 23/50\n",
      "52/52 [==============================] - 0s 4ms/step - loss: 0.0633 - accuracy: 0.9747 - val_loss: 0.2313 - val_accuracy: 0.9097\n",
      "Epoch 24/50\n",
      "52/52 [==============================] - 0s 3ms/step - loss: 0.0560 - accuracy: 0.9819 - val_loss: 0.2223 - val_accuracy: 0.9278\n",
      "Epoch 25/50\n",
      "52/52 [==============================] - 0s 3ms/step - loss: 0.0546 - accuracy: 0.9771 - val_loss: 0.2124 - val_accuracy: 0.9350\n",
      "Epoch 26/50\n",
      "52/52 [==============================] - 0s 3ms/step - loss: 0.0551 - accuracy: 0.9831 - val_loss: 0.2083 - val_accuracy: 0.9422\n",
      "Epoch 27/50\n",
      "52/52 [==============================] - 0s 3ms/step - loss: 0.0433 - accuracy: 0.9843 - val_loss: 0.2275 - val_accuracy: 0.9206\n",
      "Epoch 28/50\n",
      "52/52 [==============================] - 0s 3ms/step - loss: 0.0523 - accuracy: 0.9819 - val_loss: 0.2258 - val_accuracy: 0.9242\n",
      "Epoch 29/50\n",
      "52/52 [==============================] - 0s 3ms/step - loss: 0.0556 - accuracy: 0.9783 - val_loss: 0.2132 - val_accuracy: 0.9314\n",
      "Epoch 30/50\n",
      "52/52 [==============================] - 0s 3ms/step - loss: 0.0346 - accuracy: 0.9867 - val_loss: 0.2270 - val_accuracy: 0.9242\n",
      "Epoch 31/50\n",
      "52/52 [==============================] - 0s 3ms/step - loss: 0.0422 - accuracy: 0.9807 - val_loss: 0.2085 - val_accuracy: 0.9350\n",
      "Epoch 32/50\n",
      "52/52 [==============================] - 0s 3ms/step - loss: 0.0374 - accuracy: 0.9843 - val_loss: 0.2735 - val_accuracy: 0.9314\n",
      "Epoch 33/50\n",
      "52/52 [==============================] - 0s 3ms/step - loss: 0.0353 - accuracy: 0.9843 - val_loss: 0.3098 - val_accuracy: 0.9350\n",
      "Epoch 34/50\n",
      "52/52 [==============================] - 0s 3ms/step - loss: 0.0294 - accuracy: 0.9904 - val_loss: 0.2687 - val_accuracy: 0.9206\n",
      "Epoch 35/50\n",
      "52/52 [==============================] - 0s 3ms/step - loss: 0.0335 - accuracy: 0.9831 - val_loss: 0.3074 - val_accuracy: 0.9134\n",
      "Epoch 36/50\n",
      "52/52 [==============================] - 0s 3ms/step - loss: 0.0404 - accuracy: 0.9807 - val_loss: 0.2825 - val_accuracy: 0.9422\n",
      "Epoch 37/50\n",
      "52/52 [==============================] - 0s 3ms/step - loss: 0.0347 - accuracy: 0.9831 - val_loss: 0.3272 - val_accuracy: 0.9134\n",
      "Epoch 38/50\n",
      "52/52 [==============================] - 0s 3ms/step - loss: 0.0383 - accuracy: 0.9807 - val_loss: 0.3234 - val_accuracy: 0.9061\n",
      "Epoch 39/50\n",
      "52/52 [==============================] - 0s 3ms/step - loss: 0.0233 - accuracy: 0.9892 - val_loss: 0.2655 - val_accuracy: 0.9278\n",
      "Epoch 40/50\n",
      "52/52 [==============================] - 0s 3ms/step - loss: 0.0255 - accuracy: 0.9880 - val_loss: 0.2941 - val_accuracy: 0.9314\n",
      "Epoch 41/50\n",
      "52/52 [==============================] - 0s 3ms/step - loss: 0.0208 - accuracy: 0.9952 - val_loss: 0.3008 - val_accuracy: 0.9170\n",
      "Epoch 42/50\n",
      "52/52 [==============================] - 0s 3ms/step - loss: 0.0216 - accuracy: 0.9916 - val_loss: 0.3183 - val_accuracy: 0.9170\n",
      "Epoch 43/50\n",
      "52/52 [==============================] - 0s 3ms/step - loss: 0.0440 - accuracy: 0.9855 - val_loss: 0.2997 - val_accuracy: 0.9350\n",
      "Epoch 44/50\n",
      "52/52 [==============================] - 0s 3ms/step - loss: 0.0298 - accuracy: 0.9904 - val_loss: 0.3360 - val_accuracy: 0.9170\n",
      "Epoch 45/50\n",
      "52/52 [==============================] - 0s 3ms/step - loss: 0.0196 - accuracy: 0.9928 - val_loss: 0.3182 - val_accuracy: 0.9314\n",
      "Epoch 46/50\n",
      "52/52 [==============================] - 0s 3ms/step - loss: 0.0141 - accuracy: 0.9964 - val_loss: 0.3717 - val_accuracy: 0.9314\n",
      "Epoch 47/50\n",
      "52/52 [==============================] - 0s 3ms/step - loss: 0.0194 - accuracy: 0.9964 - val_loss: 0.3717 - val_accuracy: 0.9314\n",
      "Epoch 48/50\n",
      "52/52 [==============================] - 0s 3ms/step - loss: 0.0233 - accuracy: 0.9892 - val_loss: 0.3699 - val_accuracy: 0.9206\n",
      "Epoch 49/50\n",
      "52/52 [==============================] - 0s 3ms/step - loss: 0.0136 - accuracy: 0.9964 - val_loss: 0.3559 - val_accuracy: 0.9242\n",
      "Epoch 50/50\n",
      "52/52 [==============================] - 0s 3ms/step - loss: 0.0151 - accuracy: 0.9940 - val_loss: 0.3619 - val_accuracy: 0.9242\n"
     ]
    }
   ],
   "source": [
    "y_pred_nn = simple_neuralnet(X_train, y_train, X_test, y_test)"
   ]
  },
  {
   "cell_type": "code",
   "execution_count": 57,
   "id": "structured-mortgage",
   "metadata": {},
   "outputs": [
    {
     "name": "stdout",
     "output_type": "stream",
     "text": [
      "The accuracy of simple neural network model is: 0.92\n",
      "The precision of simple neural network model is: 0.92\n",
      "The recall of simple neural network model is: 0.92\n",
      "The f1 score of simple neural network model is: 0.92\n",
      "\n",
      "              precision    recall  f1-score   support\n",
      "\n",
      "         0.0       0.93      0.92      0.93       146\n",
      "         1.0       0.92      0.92      0.92       131\n",
      "\n",
      "    accuracy                           0.92       277\n",
      "   macro avg       0.92      0.92      0.92       277\n",
      "weighted avg       0.92      0.92      0.92       277\n",
      "\n"
     ]
    },
    {
     "data": {
      "image/png": "[encoded data removed]",
      "text/plain": [
       "<Figure size 432x288 with 1 Axes>"
      ]
     },
     "metadata": {},
     "output_type": "display_data"
    }
   ],
   "source": [
    "print(f'The accuracy of simple neural network model is: {round(accuracy_score(y_pred_nn, y_test), 2)}')\n",
    "print(f'The precision of simple neural network model is: {round(precision_score(y_pred_nn, y_test), 2)}')\n",
    "print(f'The recall of simple neural network model is: {round(recall_score(y_pred_nn, y_test), 2)}')\n",
    "print(f'The f1 score of simple neural network model is: {round(f1_score(y_pred_nn, y_test), 2)}')\n",
    "print()\n",
    "\n",
    "# Analysis of Simple Neural Network\n",
    "print(classification_report(y_pred_nn, y_test))\n",
    "cf_matrix = confusion_matrix(y_pred_nn, y_test)\n",
    "cf_dataframe = pd.DataFrame(cf_matrix, index=['Normal', 'Fraud'], columns=['Normal', 'Fraud'])\n",
    "\n",
    "sns.heatmap(cf_dataframe, annot=True, fmt='g', cmap='viridis', cbar=None)\n",
    "plt.title('Confusion Matrix Random Forest Classifier')\n",
    "plt.xlabel('Predicted Class')\n",
    "plt.ylabel('Actual Class')\n",
    "plt.show()"
   ]
  },
  {
   "cell_type": "markdown",
   "id": "rough-termination",
   "metadata": {},
   "source": [
    "### Deep Neural Network Model"
   ]
  },
  {
   "cell_type": "code",
   "execution_count": 58,
   "id": "integral-compatibility",
   "metadata": {},
   "outputs": [],
   "source": [
    "def deep_neuralnet(X_train, y_train, X_test, y_test):\n",
    "    model = Sequential()\n",
    "    model.add(Dense(1024, activation='relu', input_dim=X_train.shape[1]))\n",
    "    model.add(Dropout(0.2))\n",
    "    model.add(Dense(512, activation='relu'))\n",
    "    model.add(Dropout(0.2))\n",
    "    model.add(Dense(128, activation='relu'))\n",
    "    model.add(Dropout(0.2))\n",
    "    model.add(Dense(64, activation='relu'))\n",
    "    model.add(Dropout(0.2))\n",
    "    model.add(Dense(1, activation='sigmoid'))\n",
    "    model.compile(loss='binary_crossentropy', optimizer='adam', metrics=['accuracy'])\n",
    "    \n",
    "    model.fit(X_train, y_train, epochs=50, batch_size=16, validation_data=(X_test, y_test))\n",
    "    \n",
    "    predictions = model.predict(X_test)\n",
    "    predictions = predictions.round()\n",
    "    return predictions"
   ]
  },
  {
   "cell_type": "code",
   "execution_count": 59,
   "id": "valid-transfer",
   "metadata": {},
   "outputs": [
    {
     "name": "stdout",
     "output_type": "stream",
     "text": [
      "Epoch 1/50\n",
      "52/52 [==============================] - 1s 17ms/step - loss: 0.3496 - accuracy: 0.9084 - val_loss: 0.1851 - val_accuracy: 0.9350\n",
      "Epoch 2/50\n",
      "52/52 [==============================] - 1s 11ms/step - loss: 0.1772 - accuracy: 0.9337 - val_loss: 0.1636 - val_accuracy: 0.9314\n",
      "Epoch 3/50\n",
      "52/52 [==============================] - 1s 11ms/step - loss: 0.1532 - accuracy: 0.9482 - val_loss: 0.1584 - val_accuracy: 0.9458\n",
      "Epoch 4/50\n",
      "52/52 [==============================] - 1s 11ms/step - loss: 0.1583 - accuracy: 0.9422 - val_loss: 0.1547 - val_accuracy: 0.9495\n",
      "Epoch 5/50\n",
      "52/52 [==============================] - 1s 12ms/step - loss: 0.1191 - accuracy: 0.9602 - val_loss: 0.1444 - val_accuracy: 0.9495\n",
      "Epoch 6/50\n",
      "52/52 [==============================] - 1s 11ms/step - loss: 0.1659 - accuracy: 0.9639 - val_loss: 0.1839 - val_accuracy: 0.9458\n",
      "Epoch 7/50\n",
      "52/52 [==============================] - 1s 11ms/step - loss: 0.0978 - accuracy: 0.9699 - val_loss: 0.1987 - val_accuracy: 0.9350\n",
      "Epoch 8/50\n",
      "52/52 [==============================] - 1s 11ms/step - loss: 0.0826 - accuracy: 0.9723 - val_loss: 0.1969 - val_accuracy: 0.9242\n",
      "Epoch 9/50\n",
      "52/52 [==============================] - 1s 11ms/step - loss: 0.0704 - accuracy: 0.9747 - val_loss: 0.3237 - val_accuracy: 0.9097\n",
      "Epoch 10/50\n",
      "52/52 [==============================] - 1s 11ms/step - loss: 0.0722 - accuracy: 0.9747 - val_loss: 0.2161 - val_accuracy: 0.9350\n",
      "Epoch 11/50\n",
      "52/52 [==============================] - 1s 11ms/step - loss: 0.0646 - accuracy: 0.9735 - val_loss: 0.2481 - val_accuracy: 0.9386\n",
      "Epoch 12/50\n",
      "52/52 [==============================] - 1s 11ms/step - loss: 0.0606 - accuracy: 0.9771 - val_loss: 0.2548 - val_accuracy: 0.9350\n",
      "Epoch 13/50\n",
      "52/52 [==============================] - 1s 11ms/step - loss: 0.0568 - accuracy: 0.9807 - val_loss: 0.3326 - val_accuracy: 0.9278\n",
      "Epoch 14/50\n",
      "52/52 [==============================] - 1s 11ms/step - loss: 0.0613 - accuracy: 0.9735 - val_loss: 0.3240 - val_accuracy: 0.9350\n",
      "Epoch 15/50\n",
      "52/52 [==============================] - 1s 11ms/step - loss: 0.0597 - accuracy: 0.9819 - val_loss: 0.2818 - val_accuracy: 0.9278\n",
      "Epoch 16/50\n",
      "52/52 [==============================] - 1s 11ms/step - loss: 0.0408 - accuracy: 0.9867 - val_loss: 0.3724 - val_accuracy: 0.9350\n",
      "Epoch 17/50\n",
      "52/52 [==============================] - 1s 12ms/step - loss: 0.0402 - accuracy: 0.9880 - val_loss: 0.3109 - val_accuracy: 0.9278\n",
      "Epoch 18/50\n",
      "52/52 [==============================] - 1s 12ms/step - loss: 0.0403 - accuracy: 0.9867 - val_loss: 0.4023 - val_accuracy: 0.9134\n",
      "Epoch 19/50\n",
      "52/52 [==============================] - 1s 11ms/step - loss: 0.0315 - accuracy: 0.9880 - val_loss: 0.3685 - val_accuracy: 0.9278\n",
      "Epoch 20/50\n",
      "52/52 [==============================] - 1s 11ms/step - loss: 0.0272 - accuracy: 0.9928 - val_loss: 0.4627 - val_accuracy: 0.9061\n",
      "Epoch 21/50\n",
      "52/52 [==============================] - 1s 11ms/step - loss: 0.0387 - accuracy: 0.9892 - val_loss: 0.3931 - val_accuracy: 0.9242\n",
      "Epoch 22/50\n",
      "52/52 [==============================] - 1s 11ms/step - loss: 0.0688 - accuracy: 0.9783 - val_loss: 0.3521 - val_accuracy: 0.8989\n",
      "Epoch 23/50\n",
      "52/52 [==============================] - 1s 11ms/step - loss: 0.0383 - accuracy: 0.9892 - val_loss: 0.4073 - val_accuracy: 0.9206\n",
      "Epoch 24/50\n",
      "52/52 [==============================] - 1s 12ms/step - loss: 0.0201 - accuracy: 0.9940 - val_loss: 0.4930 - val_accuracy: 0.9278\n",
      "Epoch 25/50\n",
      "52/52 [==============================] - 1s 13ms/step - loss: 0.0292 - accuracy: 0.9867 - val_loss: 0.4295 - val_accuracy: 0.9206\n",
      "Epoch 26/50\n",
      "52/52 [==============================] - 1s 10ms/step - loss: 0.0278 - accuracy: 0.9880 - val_loss: 0.5742 - val_accuracy: 0.9061\n",
      "Epoch 27/50\n",
      "52/52 [==============================] - 0s 8ms/step - loss: 0.0200 - accuracy: 0.9928 - val_loss: 0.5494 - val_accuracy: 0.9097\n",
      "Epoch 28/50\n",
      "52/52 [==============================] - 0s 8ms/step - loss: 0.0217 - accuracy: 0.9916 - val_loss: 0.6442 - val_accuracy: 0.9386\n",
      "Epoch 29/50\n",
      "52/52 [==============================] - 0s 9ms/step - loss: 0.0229 - accuracy: 0.9940 - val_loss: 0.5822 - val_accuracy: 0.9314\n",
      "Epoch 30/50\n",
      "52/52 [==============================] - 0s 9ms/step - loss: 0.0084 - accuracy: 0.9976 - val_loss: 0.6807 - val_accuracy: 0.9206\n",
      "Epoch 31/50\n",
      "52/52 [==============================] - 0s 10ms/step - loss: 0.0072 - accuracy: 0.9988 - val_loss: 0.7094 - val_accuracy: 0.9242\n",
      "Epoch 32/50\n",
      "52/52 [==============================] - 0s 9ms/step - loss: 0.0312 - accuracy: 0.9940 - val_loss: 0.5273 - val_accuracy: 0.9242\n",
      "Epoch 33/50\n",
      "52/52 [==============================] - 0s 8ms/step - loss: 0.0096 - accuracy: 0.9952 - val_loss: 0.6323 - val_accuracy: 0.9278\n",
      "Epoch 34/50\n",
      "52/52 [==============================] - 0s 7ms/step - loss: 0.0115 - accuracy: 0.9952 - val_loss: 0.6305 - val_accuracy: 0.9278\n",
      "Epoch 35/50\n",
      "52/52 [==============================] - 0s 8ms/step - loss: 0.0058 - accuracy: 0.9988 - val_loss: 0.6777 - val_accuracy: 0.9242\n",
      "Epoch 36/50\n",
      "52/52 [==============================] - 0s 8ms/step - loss: 0.0218 - accuracy: 0.9940 - val_loss: 0.6536 - val_accuracy: 0.9134\n",
      "Epoch 37/50\n",
      "52/52 [==============================] - 0s 9ms/step - loss: 0.0450 - accuracy: 0.9892 - val_loss: 0.4721 - val_accuracy: 0.9350\n",
      "Epoch 38/50\n",
      "52/52 [==============================] - 0s 8ms/step - loss: 0.0534 - accuracy: 0.9855 - val_loss: 0.3163 - val_accuracy: 0.9386\n",
      "Epoch 39/50\n",
      "52/52 [==============================] - 0s 8ms/step - loss: 0.0188 - accuracy: 0.9940 - val_loss: 0.4092 - val_accuracy: 0.9350\n",
      "Epoch 40/50\n",
      "52/52 [==============================] - 0s 8ms/step - loss: 0.0106 - accuracy: 0.9952 - val_loss: 0.6425 - val_accuracy: 0.9350\n",
      "Epoch 41/50\n",
      "52/52 [==============================] - 0s 7ms/step - loss: 0.0293 - accuracy: 0.9843 - val_loss: 0.3692 - val_accuracy: 0.9278\n",
      "Epoch 42/50\n",
      "52/52 [==============================] - 0s 8ms/step - loss: 0.0302 - accuracy: 0.9916 - val_loss: 0.3524 - val_accuracy: 0.9350\n",
      "Epoch 43/50\n",
      "52/52 [==============================] - 0s 8ms/step - loss: 0.0146 - accuracy: 0.9976 - val_loss: 0.4205 - val_accuracy: 0.9206\n",
      "Epoch 44/50\n",
      "52/52 [==============================] - 0s 8ms/step - loss: 0.0122 - accuracy: 0.9964 - val_loss: 0.4654 - val_accuracy: 0.9134\n",
      "Epoch 45/50\n",
      "52/52 [==============================] - 0s 8ms/step - loss: 0.0044 - accuracy: 0.9988 - val_loss: 0.6065 - val_accuracy: 0.9170\n",
      "Epoch 46/50\n",
      "52/52 [==============================] - 0s 8ms/step - loss: 0.0093 - accuracy: 0.9964 - val_loss: 0.5975 - val_accuracy: 0.9242\n",
      "Epoch 47/50\n",
      "52/52 [==============================] - 0s 8ms/step - loss: 0.0043 - accuracy: 0.9988 - val_loss: 0.6208 - val_accuracy: 0.9206\n",
      "Epoch 48/50\n",
      "52/52 [==============================] - 0s 8ms/step - loss: 0.0035 - accuracy: 0.9988 - val_loss: 0.6492 - val_accuracy: 0.9206\n",
      "Epoch 49/50\n",
      "52/52 [==============================] - 0s 8ms/step - loss: 0.0041 - accuracy: 0.9976 - val_loss: 0.6761 - val_accuracy: 0.9206\n",
      "Epoch 50/50\n",
      "52/52 [==============================] - 0s 8ms/step - loss: 0.0064 - accuracy: 0.9976 - val_loss: 0.7530 - val_accuracy: 0.9206\n"
     ]
    }
   ],
   "source": [
    "y_pred_deep = deep_neuralnet(X_train, y_train, X_test, y_test)"
   ]
  },
  {
   "cell_type": "code",
   "execution_count": 60,
   "id": "quick-singer",
   "metadata": {},
   "outputs": [
    {
     "name": "stdout",
     "output_type": "stream",
     "text": [
      "The accuracy of Deep neural network model is: 0.92\n",
      "The precision of Deep neural network model is: 0.94\n",
      "The recall of Deep neural network model is: 0.9\n",
      "The f1 score of Deep neural network model is: 0.92\n",
      "\n",
      "              precision    recall  f1-score   support\n",
      "\n",
      "         0.0       0.90      0.94      0.92       139\n",
      "         1.0       0.94      0.90      0.92       138\n",
      "\n",
      "    accuracy                           0.92       277\n",
      "   macro avg       0.92      0.92      0.92       277\n",
      "weighted avg       0.92      0.92      0.92       277\n",
      "\n"
     ]
    },
    {
     "data": {
      "image/png": "[encoded data removed]",
      "text/plain": [
       "<Figure size 432x288 with 1 Axes>"
      ]
     },
     "metadata": {},
     "output_type": "display_data"
    }
   ],
   "source": [
    "print(f'The accuracy of Deep neural network model is: {round(accuracy_score(y_pred_deep, y_test), 2)}')\n",
    "print(f'The precision of Deep neural network model is: {round(precision_score(y_pred_deep, y_test), 2)}')\n",
    "print(f'The recall of Deep neural network model is: {round(recall_score(y_pred_deep, y_test), 2)}')\n",
    "print(f'The f1 score of Deep neural network model is: {round(f1_score(y_pred_deep, y_test), 2)}')\n",
    "print()\n",
    "\n",
    "# Analysis of Deep Neural Network\n",
    "print(classification_report(y_pred_deep, y_test))\n",
    "cf_matrix = confusion_matrix(y_pred_deep, y_test)\n",
    "cf_dataframe = pd.DataFrame(cf_matrix, index=['Normal', 'Fraud'], columns=['Normal', 'Fraud'])\n",
    "\n",
    "sns.heatmap(cf_dataframe, annot=True, fmt='g', cmap='viridis', cbar=None)\n",
    "plt.title('Confusion Matrix Random Forest Classifier')\n",
    "plt.xlabel('Predicted Class')\n",
    "plt.ylabel('Actual Class')\n",
    "plt.show()"
   ]
  },
  {
   "cell_type": "code",
   "execution_count": null,
   "id": "south-bishop",
   "metadata": {},
   "outputs": [],
   "source": []
  },
  {
   "cell_type": "code",
   "execution_count": null,
   "id": "offshore-perfume",
   "metadata": {},
   "outputs": [],
   "source": []
  }
 ],
 "metadata": {
  "kernelspec": {
   "display_name": "Python 3",
   "language": "python",
   "name": "python3"
  },
  "language_info": {
   "codemirror_mode": {
    "name": "ipython",
    "version": 3
   },
   "file_extension": ".py",
   "mimetype": "text/x-python",
   "name": "python",
   "nbconvert_exporter": "python",
   "pygments_lexer": "ipython3",
   "version": "3.8.5"
  }
 },
 "nbformat": 4,
 "nbformat_minor": 5
}
